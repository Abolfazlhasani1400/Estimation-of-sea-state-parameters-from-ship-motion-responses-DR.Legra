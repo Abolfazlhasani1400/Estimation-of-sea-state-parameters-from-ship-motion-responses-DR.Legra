{
 "cells": [
  {
   "cell_type": "code",
   "execution_count": null,
   "id": "70ac0c22",
   "metadata": {},
   "outputs": [],
   "source": [
    "from torch.utils.data import DataLoader\n",
    "from DataLoader import ship_dataset, init_dataloader\n",
    "from Models import *\n",
    "from TrainingModel import ship_training_app\n",
    "from collections import namedtuple\n",
    "from multiprocessing import Process\n",
    "\n",
    "data_params = namedtuple(\n",
    "    'data_params',\n",
    "    'root_dir, dataset, use_gpu, num_workers, batch_size',\n",
    ")\n",
    "\n",
    "model_params = namedtuple(\n",
    "    'model_params',\n",
    "    'name, opt_name, gpu, aug_model_name, epochs, valid_epochs, embeding_scale, number_of_embedings, ',\n",
    ")\n",
    "\n",
    "model_params_att = namedtuple(\n",
    "    'model_params_att',\n",
    "    'name, opt_name, gpu, aug_model_name, epochs, valid_epochs, blocks, heads, emb_scale, num_emb, heads_shape',\n",
    ")\n",
    "\n",
    "model = ATT_NN(4, 4, 128, 16, [128, 128, 128, 32, 3])\n",
    "\n",
    "data_params_train = data_params(\"/home/franko/Desktop/DSelimovcProject/Dataset/\", 'train', True, 2 ,32)\n",
    "data_params_valid = data_params(\"/home/franko/Desktop/DSelimovcProject/Dataset/\", 'valid', True, 1 ,32)\n",
    "dl_train = init_dataloader(data_params_train)\n",
    "dl_valid = init_dataloader(data_params_valid)\n",
    "\n",
    "model = ATT_NN(number_of_blocks = 3, number_of_heads = 4, embeding_scale = 50, number_of_embedings = 64)\n",
    "\n",
    "for batch in dl_train:\n",
    "    input_data, output_data, info = batch\n",
    "    print(input_data.shape)\n",
    "    out = model(input_data)\n",
    "    print(out.shape)\n",
    "    break\n",
    "print(output_data.shape)"
   ]
  },
  {
   "cell_type": "code",
   "execution_count": null,
   "id": "afa100d1",
   "metadata": {},
   "outputs": [],
   "source": [
    "import torch\n",
    "from torchsummary import summary\n",
    "from Models import *\n",
    "\n",
    "model = ATT_NN(4, 4, 128, 16, [128, 128, 128, 32, 3])\n",
    "model.to('cuda')\n",
    "\n",
    "#model_params_att_train = model_params_att(\"ATT_NN\", 'ADAM', True, 'None', \n",
    "#                                            250, 2, 2, 2, 700, 32, [32, 32, 32, 32, 1], 0.000005)\n",
    "summary(model, (1,3,1501), batch_size=-1)"
   ]
  }
 ],
 "metadata": {
  "kernelspec": {
   "display_name": "Python 3 (ipykernel)",
   "language": "python",
   "name": "python3"
  },
  "language_info": {
   "codemirror_mode": {
    "name": "ipython",
    "version": 3
   },
   "file_extension": ".py",
   "mimetype": "text/x-python",
   "name": "python",
   "nbconvert_exporter": "python",
   "pygments_lexer": "ipython3",
   "version": "3.7.13"
  }
 },
 "nbformat": 4,
 "nbformat_minor": 5
}
