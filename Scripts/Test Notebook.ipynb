{
 "cells": [
  {
   "cell_type": "code",
   "execution_count": 1,
   "id": "70ac0c22",
   "metadata": {},
   "outputs": [
    {
     "name": "stdout",
     "output_type": "stream",
     "text": [
      "torch.Size([32, 1, 3, 1501])\n",
      "torch.Size([32, 64, 1, 1452])\n",
      "torch.Size([32, 64, 1, 1452])\n"
     ]
    }
   ],
   "source": [
    "from torch.utils.data import DataLoader\n",
    "from DataLoader import ship_dataset, init_dataloader\n",
    "from Models import *\n",
    "from TrainingModel import ship_training_app\n",
    "from collections import namedtuple\n",
    "from multiprocessing import Process\n",
    "\n",
    "data_params = namedtuple(\n",
    "    'data_params',\n",
    "    'root_dir, dataset, use_gpu, num_workers, batch_size',\n",
    ")\n",
    "\n",
    "model_params = namedtuple(\n",
    "    'model_params',\n",
    "    'name, opt_name, gpu, aug_model_name, epochs, valid_epochs, embeding_scale, number_of_embedings, ',\n",
    ")\n",
    "\n",
    "data_params_train = data_params(\"/home/franko/Desktop/DSelimovcProject/Dataset/\", 'train', True, 2 ,32)\n",
    "data_params_valid = data_params(\"/home/franko/Desktop/DSelimovcProject/Dataset/\", 'valid', True, 1 ,32)\n",
    "dl_train = init_dataloader(data_params_train)\n",
    "dl_valid = init_dataloader(data_params_valid)\n",
    "\n",
    "model = ATT_NN(number_of_blocks = 3, number_of_heads = 4, embeding_scale = 50, number_of_embedings = 64)\n",
    "\n",
    "for batch in dl_train:\n",
    "    input_data, output_data, info = batch\n",
    "    print(input_data.shape)\n",
    "    out = model(input_data)\n",
    "    print(out.shape)\n",
    "    break"
   ]
  },
  {
   "cell_type": "code",
   "execution_count": 2,
   "id": "afa100d1",
   "metadata": {},
   "outputs": [
    {
     "name": "stdout",
     "output_type": "stream",
     "text": [
      "torch.Size([2, 64, 1, 1452])\n",
      "----------------------------------------------------------------\n",
      "        Layer (type)               Output Shape         Param #\n",
      "================================================================\n",
      "            Conv2d-1          [-1, 64, 1, 1452]           9,664\n",
      "           Dropout-2                [-1, 2, 64]               0\n",
      "Positional_Encoding-3                [-1, 2, 64]               0\n",
      "MultiheadAttention-4  [[-1, 2, 64], [-1, 1452, 1452]]               0\n",
      "Normalization_block-5                [-1, 2, 64]              64\n",
      "MultiheadAttention-6  [[-1, 2, 64], [-1, 1452, 1452]]               0\n",
      "Normalization_block-7                [-1, 2, 64]              64\n",
      "   Attention_block-8                [-1, 2, 64]               0\n",
      "MultiheadAttention-9  [[-1, 2, 64], [-1, 1452, 1452]]               0\n",
      "Normalization_block-10                [-1, 2, 64]              64\n",
      "MultiheadAttention-11  [[-1, 2, 64], [-1, 1452, 1452]]               0\n",
      "Normalization_block-12                [-1, 2, 64]              64\n",
      "  Attention_block-13                [-1, 2, 64]               0\n",
      "MultiheadAttention-14  [[-1, 2, 64], [-1, 1452, 1452]]               0\n",
      "Normalization_block-15                [-1, 2, 64]              64\n",
      "MultiheadAttention-16  [[-1, 2, 64], [-1, 1452, 1452]]               0\n",
      "Normalization_block-17                [-1, 2, 64]              64\n",
      "  Attention_block-18                [-1, 2, 64]               0\n",
      "================================================================\n",
      "Total params: 10,048\n",
      "Trainable params: 9,664\n",
      "Non-trainable params: 384\n",
      "----------------------------------------------------------------\n",
      "Input size (MB): 0.02\n",
      "Forward/backward pass size (MB): 12352.62\n",
      "Params size (MB): 0.04\n",
      "Estimated Total Size (MB): 12352.68\n",
      "----------------------------------------------------------------\n"
     ]
    }
   ],
   "source": [
    "from torchsummary import summary\n",
    "model.to('cuda')\n",
    "summary(model, (1,3,1501), batch_size=-1)"
   ]
  }
 ],
 "metadata": {
  "kernelspec": {
   "display_name": "Python 3 (ipykernel)",
   "language": "python",
   "name": "python3"
  },
  "language_info": {
   "codemirror_mode": {
    "name": "ipython",
    "version": 3
   },
   "file_extension": ".py",
   "mimetype": "text/x-python",
   "name": "python",
   "nbconvert_exporter": "python",
   "pygments_lexer": "ipython3",
   "version": "3.7.13"
  }
 },
 "nbformat": 4,
 "nbformat_minor": 5
}
