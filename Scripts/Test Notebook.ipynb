{
 "cells": [
  {
   "cell_type": "code",
   "execution_count": null,
   "id": "73b322d7",
   "metadata": {},
   "outputs": [],
   "source": [
    "from TrainingModelForATTHeads import ship_training_app\n",
    "from collections import namedtuple\n",
    "from DataLoaderForATTHeads import ship_dataset, init_dataloader\n",
    "\n",
    "data_params = namedtuple(\n",
    "    'data_params',\n",
    "    'root_dir, dataset, use_gpu, num_workers, batch_size',\n",
    ")\n",
    "\n",
    "model_params = namedtuple(\n",
    "    'model_params',\n",
    "    'name, opt_name, gpu, epochs, valid_epochs, learning_rate, neurons, module',\n",
    ")\n",
    "\n",
    "path = '/home/franko/Desktop/DSelimovcProject/Best_Models/ATT_NN:2:2:125:128:[128, 64, 3, 1, 1]_batch-wise_ADAM:0.0005_best_model.pth'\n",
    "\n",
    "\n",
    "data_params_train = data_params(\"/home/franko/Desktop/DSelimovcProject/Dataset/\", 'train', True, 2 ,32)\n",
    "data_params_valid = data_params(\"/home/franko/Desktop/DSelimovcProject/Dataset/\", 'valid', True, 1 ,32)\n",
    "dl_train = init_dataloader(data_params_train, path)\n",
    "dl_valid = init_dataloader(data_params_valid, path)\n",
    "model_params = model_params('HEAD_NN', 'ADAM', True, 200, 2, 0.0005, [256, 128], 'Hs')\n",
    "\n",
    "training = ship_training_app(dl_train, dl_valid, model_params)\n",
    "training.main()"
   ]
  },
  {
   "cell_type": "code",
   "execution_count": 1,
   "id": "69a1a9a6",
   "metadata": {},
   "outputs": [
    {
     "name": "stdout",
     "output_type": "stream",
     "text": [
      "tensor([[0.5118, 0.5054, 0.4789]]) ['/home/franko/Desktop/DSelimovcProject/Dataset/train/IO_11242.json']\n"
     ]
    }
   ],
   "source": [
    "from DataLoaderForATTHeads import ship_dataset, init_dataloader\n",
    "from collections import namedtuple\n",
    "data_params = namedtuple(\n",
    "    'data_params',\n",
    "    'root_dir, dataset, use_gpu, num_workers, batch_size',\n",
    ")\n",
    "\n",
    "path = '/home/franko/Desktop/DSelimovcProject/Best_Models/ATT_NN:2:2:125:128:[128, 64, 3, 1, 1]_batch-wise_ADAM:0.0005_best_model.pth'\n",
    "\n",
    "data_params_train = data_params(\"/home/franko/Desktop/DSelimovcProject/Dataset/\", 'train', True, 2 ,1)\n",
    "data_params_valid = data_params(\"/home/franko/Desktop/DSelimovcProject/Dataset/\", 'valid', True, 1 ,1)\n",
    "dl_train = init_dataloader(data_params_train, path)\n",
    "dl_valid = init_dataloader(data_params_valid, path)\n",
    "\n",
    "for item in dl_valid:\n",
    "    _i, _o, _info = item\n",
    "    print(_o, _info)\n",
    "    break"
   ]
  },
  {
   "cell_type": "code",
   "execution_count": 2,
   "id": "b2bccc61",
   "metadata": {},
   "outputs": [
    {
     "name": "stdout",
     "output_type": "stream",
     "text": [
      "tensor([[0.5118, 0.5054, 0.4789]]) ['/home/franko/Desktop/DSelimovcProject/Dataset/train/IO_11242.json']\n"
     ]
    }
   ],
   "source": [
    "from DataLoader import ship_dataset, init_dataloader\n",
    "from collections import namedtuple\n",
    "data_params = namedtuple(\n",
    "    'data_params',\n",
    "    'root_dir, dataset, use_gpu, num_workers, batch_size',\n",
    ")\n",
    "\n",
    "path = '/home/franko/Desktop/DSelimovcProject/Best_Models/ATT_NN:2:2:125:128:[128, 64, 3, 1, 1]_batch-wise_ADAM:0.0005_best_model.pth'\n",
    "\n",
    "data_params_train = data_params(\"/home/franko/Desktop/DSelimovcProject/Dataset/\", 'train', True, 2 ,1)\n",
    "data_params_valid = data_params(\"/home/franko/Desktop/DSelimovcProject/Dataset/\", 'valid', True, 1 ,1)\n",
    "dl_train = init_dataloader(data_params_train)\n",
    "dl_valid = init_dataloader(data_params_valid)\n",
    "\n",
    "for item in dl_valid:\n",
    "    _i, _o, _info = item\n",
    "    print(_o, _info)\n",
    "    break"
   ]
  }
 ],
 "metadata": {
  "kernelspec": {
   "display_name": "Python 3 (ipykernel)",
   "language": "python",
   "name": "python3"
  },
  "language_info": {
   "codemirror_mode": {
    "name": "ipython",
    "version": 3
   },
   "file_extension": ".py",
   "mimetype": "text/x-python",
   "name": "python",
   "nbconvert_exporter": "python",
   "pygments_lexer": "ipython3",
   "version": "3.7.13"
  }
 },
 "nbformat": 4,
 "nbformat_minor": 5
}
