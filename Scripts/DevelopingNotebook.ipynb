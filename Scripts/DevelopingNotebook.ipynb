{
 "cells": [
  {
   "cell_type": "markdown",
   "id": "451204b3",
   "metadata": {},
   "source": [
    "# Notebook for development and testing"
   ]
  },
  {
   "cell_type": "code",
   "execution_count": 1,
   "id": "a7e81423",
   "metadata": {},
   "outputs": [
    {
     "name": "stdout",
     "output_type": "stream",
     "text": [
      "(array([-0.978247,  0.47625 ,  0.277254, ...,  0.099502,  0.24331 ,\n",
      "       -1.074422]), array([-0.55426 ,  0.832885,  0.348382, ...,  0.076906,  0.160946,\n",
      "       -1.209159]), array([-0.05964 ,  0.023086,  0.0089  , ..., -0.002434,  0.007377,\n",
      "       -0.049988])) (array(5.9759), array(8.8464), array(52.3434)) /home/franko/Desktop/DSelimovcProject/Dataset/train/IO_8180.json\n"
     ]
    }
   ],
   "source": [
    "from DataLoader import *\n",
    "\n",
    "data = ship_dataset(\"/home/franko/Desktop/DSelimovcProject/Dataset/\", 'valid')\n",
    "data[0]"
   ]
  }
 ],
 "metadata": {
  "kernelspec": {
   "display_name": "Python 3 (ipykernel)",
   "language": "python",
   "name": "python3"
  },
  "language_info": {
   "codemirror_mode": {
    "name": "ipython",
    "version": 3
   },
   "file_extension": ".py",
   "mimetype": "text/x-python",
   "name": "python",
   "nbconvert_exporter": "python",
   "pygments_lexer": "ipython3",
   "version": "3.7.13"
  }
 },
 "nbformat": 4,
 "nbformat_minor": 5
}
