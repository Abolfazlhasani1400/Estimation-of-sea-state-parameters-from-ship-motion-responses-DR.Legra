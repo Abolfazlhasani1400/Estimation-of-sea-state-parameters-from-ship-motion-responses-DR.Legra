{
 "cells": [
  {
   "cell_type": "markdown",
   "id": "451204b3",
   "metadata": {},
   "source": [
    "# Notebook for development and testing"
   ]
  },
  {
   "cell_type": "code",
   "execution_count": null,
   "id": "a0cbc3f8",
   "metadata": {},
   "outputs": [],
   "source": [
    "from torch.utils.data import DataLoader\n",
    "from DataLoader import ship_dataset, init_dataloader\n",
    "from Models import CNN_REG\n",
    "from TrainingModel import ship_training_app\n",
    "from collections import namedtuple\n",
    "from multiprocessing import Process\n",
    "\n",
    "def process_function(train_dl, valid_dl, model_params):\n",
    "    training = ship_training_app(dl_train, dl_valid, model_params)\n",
    "    training.main()\n",
    "\n",
    "\n",
    "data_params = namedtuple(\n",
    "    'data_params',\n",
    "    'root_dir, dataset, use_gpu, num_workers, batch_size',\n",
    ")\n",
    "\n",
    "model_params = namedtuple(\n",
    "    'model_params',\n",
    "    'name, opt_name, gpu, aug_model_name, epochs, valid_epochs, max_pooling_rate, scaler, learning_rate',\n",
    ")\n",
    "data_params_train = data_params(\"/home/franko/Desktop/DSelimovcProject/Dataset/\", 'train', True, 2 ,32)\n",
    "data_params_valid = data_params(\"/home/franko/Desktop/DSelimovcProject/Dataset/\", 'valid', True, 1 ,32)\n",
    "dl_train = init_dataloader(data_params_train)\n",
    "dl_valid = init_dataloader(data_params_valid)\n",
    "\n",
    "gpu = True\n",
    "epochs = 250\n",
    "valid_epochs = 2\n",
    "for model_name in ['CNN_REG', 'MLSTM_CNN', 'SP_NN']:\n",
    "    for opt in ['SGD', 'ADAM']: \n",
    "        for aug in ['None', 'row-wise', 'batch-wise']:\n",
    "            for max_pooling_rate in [1, 5, 10]:\n",
    "                for scaler in [1, 5, 10]:\n",
    "                    for learning_rate in [0.005, 0.0005, 0.00005]:\n",
    "                        model_params = model_params(model_name, opt, gpu, aug, \n",
    "                                                   epochs, valid_epochs, max_pooling_rate, scaler,\n",
    "                                                   learning_rate)\n",
    "                        p = Process(target = process_function, args =(dl_train, dl_valid, model_params))\n",
    "                        p.start()\n",
    "                        p.join()\n",
    "\n",
    "# Set model params\n",
    "model_params1 = model_params('CNN_REG', 'ADAM', True, \"row-wise\", 50, 3, 10, 5, 0.0005 ) \n",
    "model_params2 = model_params('MLSTM_CNN', 'ADAM', True, \"None\", 50, 3, \"na\", 1, 0.0005 ) \n",
    "model_params3 = model_params('SP_NN', 'ADAM', True, \"None\", 50, 3, 5, 2, 0.0005 ) \n",
    "p = Process(target = process_function, args=(dl_train, dl_valid, model_params2))\n",
    "p.start()\n",
    "p.join()\n",
    "    \n",
    "# model_params = model_params('CNN_REG', 'ADAM', True, 500, 5, 10, 10, 0.0005 ) OVO JE BILO ISPOD 0.00868 135 epochs"
   ]
  }
 ],
 "metadata": {
  "kernelspec": {
   "display_name": "Python 3 (ipykernel)",
   "language": "python",
   "name": "python3"
  },
  "language_info": {
   "codemirror_mode": {
    "name": "ipython",
    "version": 3
   },
   "file_extension": ".py",
   "mimetype": "text/x-python",
   "name": "python",
   "nbconvert_exporter": "python",
   "pygments_lexer": "ipython3",
   "version": "3.7.13"
  }
 },
 "nbformat": 4,
 "nbformat_minor": 5
}
