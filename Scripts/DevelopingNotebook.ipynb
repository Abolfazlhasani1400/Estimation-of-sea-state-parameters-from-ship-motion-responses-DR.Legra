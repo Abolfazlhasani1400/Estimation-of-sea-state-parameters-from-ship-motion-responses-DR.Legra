{
 "cells": [
  {
   "cell_type": "markdown",
   "id": "451204b3",
   "metadata": {},
   "source": [
    "# Notebook for development and testing"
   ]
  },
  {
   "cell_type": "code",
   "execution_count": 1,
   "id": "67ad94ef",
   "metadata": {},
   "outputs": [
    {
     "name": "stdout",
     "output_type": "stream",
     "text": [
      "torch.Size([3, 1501])\n"
     ]
    }
   ],
   "source": [
    "from DataLoader import *\n",
    "\n",
    "data = ship_dataset(\"/home/franko/Desktop/DSelimovcProject/Dataset/\", 'train')\n",
    "input, output, name = data[0]\n",
    "print(input[0].shape)"
   ]
  },
  {
   "cell_type": "code",
   "execution_count": 14,
   "id": "96b3a73c",
   "metadata": {},
   "outputs": [],
   "source": [
    "import torch\n",
    "from torch import nn\n",
    "from torch.utils.data import DataLoader\n",
    "import torch.nn.functional as F\n",
    "import math"
   ]
  },
  {
   "cell_type": "code",
   "execution_count": 3,
   "id": "31ffdec2",
   "metadata": {},
   "outputs": [],
   "source": [
    "def init_train_dataloader():\n",
    "    \"\"\"\n",
    "        Init of the train data loader. NOT TESTED FOR MULTIPLE GPU\n",
    "        Creating wrapper arround data class. \n",
    "    \"\"\"\n",
    "    _train_ds = ship_dataset(\"/home/franko/Desktop/DSelimovcProject/Dataset/\", 'train')\n",
    "    batch_size = 32\n",
    "    if False and False:\n",
    "        batch_size *= torch.cuda.device_count()\n",
    "\n",
    "    _train_dl = DataLoader(\n",
    "        _train_ds,\n",
    "        batch_size=batch_size,\n",
    "        num_workers=1,\n",
    "        pin_memory=False,\n",
    "    )  \n",
    "    return _train_dl"
   ]
  },
  {
   "cell_type": "code",
   "execution_count": 15,
   "id": "b3b6b698",
   "metadata": {},
   "outputs": [],
   "source": [
    "class CNN_REG(nn.Module):\n",
    "    def __init__(self, max_pooling_ratio = 2):\n",
    "        super(CNN_REG, self).__init__()\n",
    "        self.dense_number = math.floor((math.floor((1501-15+1) / max_pooling_ratio) - 9 + 1) / max_pooling_ratio)\n",
    "\n",
    "        \n",
    "        self.first_conv = torch.nn.Conv2d(1, 48, kernel_size = (3, 15))\n",
    "        self.second_conv = torch.nn.Conv2d(48, 48, kernel_size = (1,9))\n",
    "        self.dense = torch.nn.Linear(self.dense_number * 48, 30)\n",
    "        self.dropout = nn.Dropout(p=0.25)\n",
    "        self.output_layer = torch.nn.Linear(30, 3)\n",
    "        \n",
    "        self.max_pooling_ratio = max_pooling_ratio\n",
    "        \n",
    "    def forward(self, x):\n",
    "        _out = self.first_conv(x)\n",
    "        _out = torch.tanh(_out)\n",
    "        _out = F.max_pool2d(_out, kernel_size = (1, self.max_pooling_ratio))\n",
    "        _out = self.second_conv(_out)\n",
    "        _out = torch.tanh(_out)\n",
    "        _out = F.max_pool2d(_out, kernel_size = (1, self.max_pooling_ratio))\n",
    "        \n",
    "        \n",
    "        _out = _out.view(-1, self.dense_number * 48)\n",
    "        \n",
    "        _out = self.dense(_out)\n",
    "        _out = torch.tanh(_out)\n",
    "        _out = self.dropout(_out)\n",
    "        _out = self.output_layer(_out)\n",
    "        _out = torch.tanh(_out)\n",
    "        \n",
    "        return _out"
   ]
  },
  {
   "cell_type": "code",
   "execution_count": 16,
   "id": "39dfeead",
   "metadata": {},
   "outputs": [
    {
     "name": "stdout",
     "output_type": "stream",
     "text": [
      "367\n",
      "torch.Size([32, 1, 3, 1501])\n",
      "torch.Size([32, 3])\n"
     ]
    }
   ],
   "source": [
    "dl = init_train_dataloader()\n",
    "\n",
    "for batch in dl:\n",
    "    _input, _output, _ = batch\n",
    "    break\n",
    "model = CNN_REG(max_pooling_ratio = 2)\n",
    "model = model.double()\n",
    "print(_input.shape)\n",
    "pred = model(_input)\n",
    "print(pred.shape)\n"
   ]
  }
 ],
 "metadata": {
  "kernelspec": {
   "display_name": "Python 3 (ipykernel)",
   "language": "python",
   "name": "python3"
  },
  "language_info": {
   "codemirror_mode": {
    "name": "ipython",
    "version": 3
   },
   "file_extension": ".py",
   "mimetype": "text/x-python",
   "name": "python",
   "nbconvert_exporter": "python",
   "pygments_lexer": "ipython3",
   "version": "3.7.13"
  }
 },
 "nbformat": 4,
 "nbformat_minor": 5
}
