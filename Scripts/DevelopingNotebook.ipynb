{
 "cells": [
  {
   "cell_type": "markdown",
   "id": "451204b3",
   "metadata": {},
   "source": [
    "# Notebook for development and testing"
   ]
  },
  {
   "cell_type": "code",
   "execution_count": 1,
   "id": "02f6f1b1",
   "metadata": {},
   "outputs": [],
   "source": [
    "def init_train_dataloader():\n",
    "    \"\"\"\n",
    "        Init of the train data loader. NOT TESTED FOR MULTIPLE GPU\n",
    "        Creating wrapper arround data class. \n",
    "    \"\"\"\n",
    "    _train_ds = ship_dataset(\"/home/franko/Desktop/DSelimovcProject/Dataset/\", 'train')\n",
    "    batch_size = 32\n",
    "    if False and False:\n",
    "        batch_size *= torch.cuda.device_count()\n",
    "\n",
    "    _train_dl = DataLoader(\n",
    "        _train_ds,\n",
    "        batch_size=batch_size,\n",
    "        num_workers=1,\n",
    "        pin_memory=False,\n",
    "    )  \n",
    "    return _train_dl"
   ]
  },
  {
   "cell_type": "code",
   "execution_count": 3,
   "id": "a0cbc3f8",
   "metadata": {},
   "outputs": [
    {
     "name": "stdout",
     "output_type": "stream",
     "text": [
      "torch.Size([32, 1, 3, 1501])\n",
      "torch.Size([32, 3])\n"
     ]
    }
   ],
   "source": [
    "from torch.utils.data import DataLoader\n",
    "from DataLoader import ship_dataset\n",
    "from Models import CNN_REG\n",
    "\n",
    "dl = init_train_dataloader()\n",
    "\n",
    "for batch in dl:\n",
    "    _input, _output, _ = batch\n",
    "    break\n",
    "model = CNN_REG(max_pooling_ratio = 4)\n",
    "model = model.double()\n",
    "print(_input.shape)\n",
    "pred = model(_input)\n",
    "print(pred.shape)\n"
   ]
  }
 ],
 "metadata": {
  "kernelspec": {
   "display_name": "Python 3 (ipykernel)",
   "language": "python",
   "name": "python3"
  },
  "language_info": {
   "codemirror_mode": {
    "name": "ipython",
    "version": 3
   },
   "file_extension": ".py",
   "mimetype": "text/x-python",
   "name": "python",
   "nbconvert_exporter": "python",
   "pygments_lexer": "ipython3",
   "version": "3.7.13"
  }
 },
 "nbformat": 4,
 "nbformat_minor": 5
}
