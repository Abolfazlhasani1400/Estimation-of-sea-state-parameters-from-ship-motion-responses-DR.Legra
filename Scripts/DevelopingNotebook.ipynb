{
 "cells": [
  {
   "cell_type": "markdown",
   "id": "451204b3",
   "metadata": {},
   "source": [
    "# Notebook for development and testing"
   ]
  },
  {
   "cell_type": "code",
   "execution_count": null,
   "id": "a0cbc3f8",
   "metadata": {},
   "outputs": [],
   "source": [
    "from torch.utils.data import DataLoader\n",
    "from DataLoader import ship_dataset, init_dataloader\n",
    "from Models import CNN_REG\n",
    "from TrainingModel import ship_training_app\n",
    "from collections import namedtuple\n",
    "from multiprocessing import Process\n",
    "\n",
    "def process_function(train_dl, valid_dl, model_params):\n",
    "    training = ship_training_app(dl_train, dl_valid, model_params)\n",
    "    training.main()\n",
    "\n",
    "\n",
    "data_params = namedtuple(\n",
    "    'data_params',\n",
    "    'root_dir, dataset, use_gpu, num_workers, batch_size',\n",
    ")\n",
    "\n",
    "model_params = namedtuple(\n",
    "    'model_params',\n",
    "    'name, opt_name, gpu, epochs, valid_epochs, max_pooling_rate, scaler, learning_rate',\n",
    ")\n",
    "\n",
    "\n",
    "for opt in ['ADAM', 'SGD']: \n",
    "    # Set dataset\n",
    "    data_params_train = data_params(\"/home/franko/Desktop/DSelimovcProject/Dataset/\", 'train', True, 2 ,32)\n",
    "    data_params_valid = data_params(\"/home/franko/Desktop/DSelimovcProject/Dataset/\", 'valid', True, 1 ,32)\n",
    "    dl_train = init_dataloader(data_params_train)\n",
    "    dl_valid = init_dataloader(data_params_valid)\n",
    "    \n",
    "    # Set model params\n",
    "    model_params1 = model_params('CNN_REG', opt, True, 10, 3, 10, 5, 0.0005 ) \n",
    "    p = Process(target = process_function, args=(dl_train, dl_valid, model_params1))\n",
    "    p.start()\n",
    "    p.join()\n",
    "    \n",
    "# model_params = model_params('CNN_REG', 'ADAM', True, 500, 5, 10, 10, 0.0005 ) OVO JE BILO ISPOD 0.00868 135 epochs"
   ]
  },
  {
   "cell_type": "code",
   "execution_count": null,
   "id": "972ebcc7",
   "metadata": {},
   "outputs": [],
   "source": []
  }
 ],
 "metadata": {
  "kernelspec": {
   "display_name": "Python 3 (ipykernel)",
   "language": "python",
   "name": "python3"
  },
  "language_info": {
   "codemirror_mode": {
    "name": "ipython",
    "version": 3
   },
   "file_extension": ".py",
   "mimetype": "text/x-python",
   "name": "python",
   "nbconvert_exporter": "python",
   "pygments_lexer": "ipython3",
   "version": "3.7.13"
  }
 },
 "nbformat": 4,
 "nbformat_minor": 5
}
