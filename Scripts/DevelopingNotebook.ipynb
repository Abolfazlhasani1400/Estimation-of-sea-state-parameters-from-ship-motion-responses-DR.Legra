{
 "cells": [
  {
   "cell_type": "markdown",
   "id": "451204b3",
   "metadata": {},
   "source": [
    "# Notebook for development and testing"
   ]
  },
  {
   "cell_type": "code",
   "execution_count": 3,
   "id": "ff8155a0",
   "metadata": {},
   "outputs": [
    {
     "name": "stdout",
     "output_type": "stream",
     "text": [
      "(array([ 0.244292,  0.062692, -0.14715 , ...,  0.104346, -0.027009,\n",
      "       -0.08672 ]), array([ 0.666963,  0.205666, -0.418569, ...,  0.30228 , -0.056687,\n",
      "       -0.27051 ]), array([ 2.089e-03, -5.790e-04, -1.049e-03, ...,  6.110e-04,  8.000e-05,\n",
      "       -7.000e-06])) (array(8.9138), array(7.8355), array(2.5681)) /home/franko/Desktop/DSelimovcProject/Dataset/train/IO_2694.json\n"
     ]
    }
   ],
   "source": [
    "from DataLoader import *\n",
    "\n",
    "data = ship_dataset(\"/home/franko/Desktop/DSelimovcProject/Dataset/\", 'train')\n",
    "data[0]"
   ]
  }
 ],
 "metadata": {
  "kernelspec": {
   "display_name": "Python 3 (ipykernel)",
   "language": "python",
   "name": "python3"
  },
  "language_info": {
   "codemirror_mode": {
    "name": "ipython",
    "version": 3
   },
   "file_extension": ".py",
   "mimetype": "text/x-python",
   "name": "python",
   "nbconvert_exporter": "python",
   "pygments_lexer": "ipython3",
   "version": "3.7.13"
  }
 },
 "nbformat": 4,
 "nbformat_minor": 5
}
