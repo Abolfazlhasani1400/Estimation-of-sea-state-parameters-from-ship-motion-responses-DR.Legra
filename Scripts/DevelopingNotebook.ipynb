{
 "cells": [
  {
   "cell_type": "markdown",
   "id": "451204b3",
   "metadata": {},
   "source": [
    "# Notebook for development and testing"
   ]
  },
  {
   "cell_type": "code",
   "execution_count": 2,
   "id": "797f516d",
   "metadata": {},
   "outputs": [
    {
     "name": "stdout",
     "output_type": "stream",
     "text": [
      "tensor([[ 2.4429e-01,  6.2692e-02, -1.4715e-01,  ...,  1.0435e-01,\n",
      "         -2.7009e-02, -8.6720e-02],\n",
      "        [ 6.6696e-01,  2.0567e-01, -4.1857e-01,  ...,  3.0228e-01,\n",
      "         -5.6687e-02, -2.7051e-01],\n",
      "        [ 2.0890e-03, -5.7900e-04, -1.0490e-03,  ...,  6.1100e-04,\n",
      "          8.0000e-05, -7.0000e-06]], dtype=torch.float64) tensor([8.9138, 7.8355, 2.5681], dtype=torch.float64) /home/franko/Desktop/DSelimovcProject/Dataset/train/IO_2694.json\n"
     ]
    },
    {
     "ename": "TypeError",
     "evalue": "cannot unpack non-iterable NoneType object",
     "output_type": "error",
     "traceback": [
      "\u001b[0;31m---------------------------------------------------------------------------\u001b[0m",
      "\u001b[0;31mTypeError\u001b[0m                                 Traceback (most recent call last)",
      "\u001b[0;32m/tmp/ipykernel_15209/3088978001.py\u001b[0m in \u001b[0;36m<module>\u001b[0;34m\u001b[0m\n\u001b[1;32m      2\u001b[0m \u001b[0;34m\u001b[0m\u001b[0m\n\u001b[1;32m      3\u001b[0m \u001b[0mdata\u001b[0m \u001b[0;34m=\u001b[0m \u001b[0mship_dataset\u001b[0m\u001b[0;34m(\u001b[0m\u001b[0;34m\"/home/franko/Desktop/DSelimovcProject/Dataset/\"\u001b[0m\u001b[0;34m,\u001b[0m \u001b[0;34m'train'\u001b[0m\u001b[0;34m)\u001b[0m\u001b[0;34m\u001b[0m\u001b[0;34m\u001b[0m\u001b[0m\n\u001b[0;32m----> 4\u001b[0;31m \u001b[0minput\u001b[0m\u001b[0;34m,\u001b[0m \u001b[0moutput\u001b[0m \u001b[0;34m=\u001b[0m \u001b[0mdata\u001b[0m\u001b[0;34m[\u001b[0m\u001b[0;36m0\u001b[0m\u001b[0;34m]\u001b[0m\u001b[0;34m\u001b[0m\u001b[0;34m\u001b[0m\u001b[0m\n\u001b[0m\u001b[1;32m      5\u001b[0m \u001b[0mprint\u001b[0m\u001b[0;34m(\u001b[0m\u001b[0minput\u001b[0m\u001b[0;34m.\u001b[0m\u001b[0mshape\u001b[0m\u001b[0;34m)\u001b[0m\u001b[0;34m\u001b[0m\u001b[0;34m\u001b[0m\u001b[0m\n",
      "\u001b[0;31mTypeError\u001b[0m: cannot unpack non-iterable NoneType object"
     ]
    }
   ],
   "source": [
    "from DataLoader import *\n",
    "\n",
    "data = ship_dataset(\"/home/franko/Desktop/DSelimovcProject/Dataset/\", 'train')\n",
    "input, output, name = data[0]\n",
    "print(input.shape)"
   ]
  }
 ],
 "metadata": {
  "kernelspec": {
   "display_name": "Python 3 (ipykernel)",
   "language": "python",
   "name": "python3"
  },
  "language_info": {
   "codemirror_mode": {
    "name": "ipython",
    "version": 3
   },
   "file_extension": ".py",
   "mimetype": "text/x-python",
   "name": "python",
   "nbconvert_exporter": "python",
   "pygments_lexer": "ipython3",
   "version": "3.7.13"
  }
 },
 "nbformat": 4,
 "nbformat_minor": 5
}
