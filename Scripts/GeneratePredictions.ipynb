{
 "cells": [
  {
   "cell_type": "code",
   "execution_count": 3,
   "id": "cac39504",
   "metadata": {
    "scrolled": false
   },
   "outputs": [
    {
     "name": "stdout",
     "output_type": "stream",
     "text": [
      "**************************************\n",
      "USING MODEL: ATT_NN\n",
      "USING GPU: cuda\n",
      "Loading model!\n"
     ]
    }
   ],
   "source": [
    "from EvaluateModel import *\n",
    "from collections import namedtuple\n",
    "from DataLoader import ship_dataset, init_dataloader\n",
    "from Models import *\n",
    "path = '/home/franko/Desktop/DSelimovcProject/Best_Models/ATT_NN:2:2:125:128:[128, 64, 3, 1, 1]_batch-wise_ADAM:0.0005_best_model.pth'\n",
    "\n",
    "data_params = namedtuple(\n",
    "    'data_params',\n",
    "    'root_dir, dataset, use_gpu, num_workers, batch_size',\n",
    ")\n",
    "\n",
    "model_params = namedtuple(\n",
    "    'model_params',\n",
    "    'name, opt_name, gpu, epochs, valid_epochs, learning_rate, neurons, module',\n",
    ")\n",
    "\n",
    "evaluation = evaluate_model(path)\n",
    "\n",
    "\n",
    "data_params_valid = data_params(\"/home/franko/Desktop/DSelimovcProject/Dataset/\", 'test', True, 1 , 32)\n",
    "dl_valid = init_dataloader(data_params_valid)\n",
    "for item in dl_valid:\n",
    "    _input, _output, _info = item    \n",
    "    _, pred = evaluation.evaluate(_input)\n",
    "    pred = pred.permute(1,2,0)\n",
    "    for data, name in zip(pred, _info):\n",
    "        \n",
    "        #print(data.shape, name)\n",
    "        name = name.split(\".\")[:-1]\n",
    "        name = ''.join(name+['.npy'])\n",
    "        #print(name)\n",
    "        data = data.to('cpu')\n",
    "        data = data.detach().numpy()\n",
    "        \n",
    "        np.save(name, data)\n",
    "        restored = np.load(name)\n",
    "        \n",
    "    "
   ]
  }
 ],
 "metadata": {
  "kernelspec": {
   "display_name": "Python 3 (ipykernel)",
   "language": "python",
   "name": "python3"
  },
  "language_info": {
   "codemirror_mode": {
    "name": "ipython",
    "version": 3
   },
   "file_extension": ".py",
   "mimetype": "text/x-python",
   "name": "python",
   "nbconvert_exporter": "python",
   "pygments_lexer": "ipython3",
   "version": "3.7.13"
  }
 },
 "nbformat": 4,
 "nbformat_minor": 5
}
