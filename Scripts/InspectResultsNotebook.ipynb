{
 "cells": [
  {
   "cell_type": "markdown",
   "id": "bda2e72a",
   "metadata": {},
   "source": [
    "# Notebook for results inspection"
   ]
  },
  {
   "cell_type": "markdown",
   "id": "fb585a28",
   "metadata": {},
   "source": [
    "#### Find top k best MSE"
   ]
  },
  {
   "cell_type": "code",
   "execution_count": 4,
   "id": "d1a884d1",
   "metadata": {},
   "outputs": [],
   "source": [
    "from EvaluateModel import *\n",
    "from collections import namedtuple\n",
    "from DataLoader import ship_dataset, init_dataloader\n",
    "\n",
    "data_params = namedtuple(\n",
    "    'data_params',\n",
    "    'root_dir, dataset, use_gpu, num_workers, batch_size',\n",
    ")"
   ]
  },
  {
   "cell_type": "markdown",
   "id": "7a0ec428",
   "metadata": {},
   "source": [
    "## Evaluate models"
   ]
  },
  {
   "cell_type": "code",
   "execution_count": 5,
   "id": "f0dd66cf",
   "metadata": {},
   "outputs": [
    {
     "name": "stdout",
     "output_type": "stream",
     "text": [
      "cuda\n",
      "**************************************\n",
      "USING MODEL: ATT_NN\n",
      "USING GPU: cuda\n",
      "Loading model!\n",
      "Test: 1282: 1282\r"
     ]
    }
   ],
   "source": [
    "#path = '/home/franko/Desktop/DSelimovcProject/Best_Models/ATT_NN:2:2:125:128:[128, 64, 3, 1, 1]_batch-wise_ADAM:0.0005_best_model.pth'\n",
    "#path = '/home/franko/Desktop/DSelimovcProject/Best_Models/CNN_REG:10:5_row-wise_ADAM:0.0005_best_model.pth'\n",
    "#path = '/home/franko/Desktop/DSelimovcProject/Best_Models/MLSTM_CNN:na:5_row-wise_ADAM:0.005_best_model.pth'\n",
    "#path = '/home/franko/Desktop/DSelimovcProject/Best_Models/SP_NN:10:5_batch-wise_ADAM:5e-05_best_model.pth'\n",
    "path = '/home/franko/Desktop/DSelimovcProject/Best_Models/ATT_NN:2:2:500:128:[128, 64, 3, 1, 1]_batch-wise_ADAM:0.0005_best_model.pth'\n",
    "\n",
    "evaluation = evaluate_model(path)\n",
    "\n",
    "data_params_valid = data_params(\"/home/franko/Desktop/DSelimovcProject/Dataset/\", 'valid', True, 1 , 1)\n",
    "data_params_test = data_params(\"/home/franko/Desktop/DSelimovcProject/Dataset/\", 'test', True, 1 , 1)\n",
    "\n",
    "dl_valid = init_dataloader(data_params_valid)\n",
    "dl_test = init_dataloader(data_params_test)\n",
    "\n",
    "\n",
    "evaluation.evalaute_and_export(dl_valid, dl_test)\n",
    "\n",
    "\n",
    "    "
   ]
  },
  {
   "cell_type": "code",
   "execution_count": 6,
   "id": "7124cf20",
   "metadata": {},
   "outputs": [
    {
     "data": {
      "text/plain": [
       "{'ATT_NN:2:2:125:128:[128, 64, 3, 1, 1]_batch-wise_ADAM:0.0005_204_mse:0.000404.xlsx': 0.000404,\n",
       " 'ATT_NN:2:2:500:128:[128, 64, 3, 1, 1]_batch-wise_ADAM:0.0005_178_mse:0.000533.xlsx': 0.000533,\n",
       " 'ATT_NN:2:2:500:64:[128, 64, 3, 1, 1]_batch-wise_ADAM:0.0005_156_mse:0.000750.xlsx': 0.00075,\n",
       " 'ATT_NN:1:2:125:64:[64, 32, 3, 2, 2]_batch-wise_ADAM:0.0005_180_mse:0.000906.xlsx': 0.000906,\n",
       " 'ATT_NN:2:2:125:128:[128, 64, 3, 1, 1]_row-wise_ADAM:0.0005_134_mse:0.000910.xlsx': 0.00091,\n",
       " 'ATT_NN:2:2:500:128:[256, 128, 3, 2, 2]_row-wise_ADAM:0.0005_136_mse:0.000929.xlsx': 0.000929,\n",
       " 'ATT_NN:1:2:125:128:[64, 32, 3, 2, 2]_row-wise_ADAM:0.0005_144_mse:0.001045.xlsx': 0.001045,\n",
       " 'ATT_NN:1:2:125:128:[128, 64, 3, 4, 4]_batch-wise_ADAM:0.0005_88_mse:0.001071.xlsx': 0.001071,\n",
       " 'ATT_NN:1:4:125:32:[64, 32, 3, 2, 2]_batch-wise_ADAM:0.0005_156_mse:0.001121.xlsx': 0.001121,\n",
       " 'ATT_NN:2:2:125:128:[256, 128, 3, 2, 2]_batch-wise_ADAM:0.0005_104_mse:0.001163.xlsx': 0.001163}"
      ]
     },
     "execution_count": 6,
     "metadata": {},
     "output_type": "execute_result"
    }
   ],
   "source": [
    "path = \"/home/franko/Share/Testiraj\"\n",
    "return_top_k(path, 10)"
   ]
  }
 ],
 "metadata": {
  "kernelspec": {
   "display_name": "Python 3 (ipykernel)",
   "language": "python",
   "name": "python3"
  },
  "language_info": {
   "codemirror_mode": {
    "name": "ipython",
    "version": 3
   },
   "file_extension": ".py",
   "mimetype": "text/x-python",
   "name": "python",
   "nbconvert_exporter": "python",
   "pygments_lexer": "ipython3",
   "version": "3.7.13"
  }
 },
 "nbformat": 4,
 "nbformat_minor": 5
}
