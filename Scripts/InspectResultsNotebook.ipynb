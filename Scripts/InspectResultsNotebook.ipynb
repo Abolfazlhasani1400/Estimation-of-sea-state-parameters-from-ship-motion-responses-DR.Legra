{
 "cells": [
  {
   "cell_type": "markdown",
   "id": "bda2e72a",
   "metadata": {},
   "source": [
    "# Notebook for results inspection"
   ]
  },
  {
   "cell_type": "markdown",
   "id": "fb585a28",
   "metadata": {},
   "source": [
    "#### Find top k best MSE"
   ]
  },
  {
   "cell_type": "code",
   "execution_count": 1,
   "id": "d1a884d1",
   "metadata": {},
   "outputs": [],
   "source": [
    "from EvaluateModel import *\n"
   ]
  },
  {
   "cell_type": "markdown",
   "id": "7a0ec428",
   "metadata": {},
   "source": [
    "## Evaluate models"
   ]
  },
  {
   "cell_type": "code",
   "execution_count": 2,
   "id": "f0dd66cf",
   "metadata": {},
   "outputs": [
    {
     "name": "stdout",
     "output_type": "stream",
     "text": [
      "cpu\n",
      "**************************************\n",
      "USING MODEL: ATT_NN\n",
      "Loading model!\n"
     ]
    }
   ],
   "source": [
    "path = '/home/franko/Desktop/DSelimovcProject/Best_Models/ATT_NN:2:2:125:128:[128, 64, 3, 1, 1]_batch-wise_ADAM:0.0005_best_model.pth'\n",
    "#path = '/home/franko/Desktop/DSelimovcProject/Best_Models/CNN_REG:10:5_row-wise_ADAM:0.0005_best_model.pth'\n",
    "#path = '/home/franko/Desktop/DSelimovcProject/Best_Models/MLSTM_CNN:na:5_row-wise_ADAM:0.005_best_model.pth'\n",
    "#path = '/home/franko/Desktop/DSelimovcProject/Best_Models/SP_NN:10:5_batch-wise_ADAM:5e-05_best_model.pth'\n",
    "evaluation = evaluate_model(path)"
   ]
  },
  {
   "cell_type": "code",
   "execution_count": null,
   "id": "7124cf20",
   "metadata": {},
   "outputs": [],
   "source": [
    "def eval_model(self, sample):\n",
    "        \"\"\"\n",
    "            Function to test model on one sample\n",
    "\n",
    "            Args:\n",
    "                *sample, tensor, image+mask+info\n",
    "        \"\"\"\n",
    "\n",
    "        _sample = nuclei_dataset(self.data_path_train, \n",
    "                                  instance = sample,\n",
    "                                 nuclei_combined = self.nuclei_combined,\n",
    "                                 patch_size = self.size)\n",
    "        _input_img, _real_mask, _info = _sample[0]\n",
    "        with torch.no_grad():\n",
    "            self.model.eval()\n",
    "            _input_img = _input_img.unsqueeze(0).to(self.device)\n",
    "            _prediction = self.model(_input_img)\n",
    "        \n",
    "        _input_img = _input_img.to('cpu')\n",
    "        _prediction = _prediction.to('cpu')\n",
    "        _real_mask = _real_mask.to('cpu')\n",
    "        \n",
    "        self.plot_sample(_input_img.squeeze(0), _real_mask, _prediction.squeeze(0))"
   ]
  }
 ],
 "metadata": {
  "kernelspec": {
   "display_name": "Python 3 (ipykernel)",
   "language": "python",
   "name": "python3"
  },
  "language_info": {
   "codemirror_mode": {
    "name": "ipython",
    "version": 3
   },
   "file_extension": ".py",
   "mimetype": "text/x-python",
   "name": "python",
   "nbconvert_exporter": "python",
   "pygments_lexer": "ipython3",
   "version": "3.7.13"
  }
 },
 "nbformat": 4,
 "nbformat_minor": 5
}
