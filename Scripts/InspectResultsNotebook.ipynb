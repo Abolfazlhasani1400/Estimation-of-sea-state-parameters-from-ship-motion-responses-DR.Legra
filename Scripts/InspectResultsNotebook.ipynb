{
 "cells": [
  {
   "cell_type": "markdown",
   "id": "bda2e72a",
   "metadata": {},
   "source": [
    "# Notebook for results inspection"
   ]
  },
  {
   "cell_type": "markdown",
   "id": "fb585a28",
   "metadata": {},
   "source": [
    "#### Find top k best MSE"
   ]
  },
  {
   "cell_type": "code",
   "execution_count": null,
   "id": "d1a884d1",
   "metadata": {},
   "outputs": [],
   "source": [
    "from EvaluateModel import *\n",
    "from collections import namedtuple\n",
    "from DataLoader import ship_dataset, init_dataloader\n",
    "\n",
    "data_params = namedtuple(\n",
    "    'data_params',\n",
    "    'root_dir, dataset, use_gpu, num_workers, batch_size',\n",
    ")"
   ]
  },
  {
   "cell_type": "markdown",
   "id": "7a0ec428",
   "metadata": {},
   "source": [
    "## Evaluate models"
   ]
  },
  {
   "cell_type": "code",
   "execution_count": null,
   "id": "f0dd66cf",
   "metadata": {},
   "outputs": [],
   "source": [
    "path = '/home/franko/Desktop/DSelimovcProject/Best_Models/ATT_NN:2:2:125:128:[128, 64, 3, 1, 1]_batch-wise_ADAM:0.0005_best_model.pth'\n",
    "#path = '/home/franko/Desktop/DSelimovcProject/Best_Models/CNN_REG:10:5_row-wise_ADAM:0.0005_best_model.pth'\n",
    "#path = '/home/franko/Desktop/DSelimovcProject/Best_Models/MLSTM_CNN:na:5_row-wise_ADAM:0.005_best_model.pth'\n",
    "#path = '/home/franko/Desktop/DSelimovcProject/Best_Models/SP_NN:10:5_batch-wise_ADAM:5e-05_best_model.pth'\n",
    "#path = '/home/franko/Desktop/DSelimovcProject/Best_Models/ATT_NN:2:2:500:128:[128, 64, 3, 1, 1]_batch-wise_ADAM:0.0005_best_model.pth'\n",
    "\n",
    "evaluation = evaluate_model(path)\n",
    "\n",
    "data_params_valid = data_params(\"/home/franko/Desktop/DSelimovcProject/Dataset/\", 'valid', True, 1 , 1)\n",
    "data_params_test = data_params(\"/home/franko/Desktop/DSelimovcProject/Dataset/\", 'test', True, 1 , 1)\n",
    "\n",
    "dl_valid = init_dataloader(data_params_valid)\n",
    "dl_test = init_dataloader(data_params_test)\n",
    "\n",
    "for item in dl_valid:\n",
    "    _input, _output, _p = item\n",
    "    _pred = evaluation.evaluate(_input)\n",
    "    #print(_pred)\n",
    "    print(_pred[1].shape)\n",
    "    break\n",
    "#evaluation.evalaute_and_export(dl_valid, dl_test)\n",
    "\n",
    "\n",
    "    "
   ]
  },
  {
   "cell_type": "code",
   "execution_count": null,
   "id": "7124cf20",
   "metadata": {},
   "outputs": [],
   "source": [
    "path = \"/home/franko/Share/Testiraj\"\n",
    "return_top_k(path, 10)"
   ]
  }
 ],
 "metadata": {
  "kernelspec": {
   "display_name": "Python 3 (ipykernel)",
   "language": "python",
   "name": "python3"
  },
  "language_info": {
   "codemirror_mode": {
    "name": "ipython",
    "version": 3
   },
   "file_extension": ".py",
   "mimetype": "text/x-python",
   "name": "python",
   "nbconvert_exporter": "python",
   "pygments_lexer": "ipython3",
   "version": "3.7.13"
  }
 },
 "nbformat": 4,
 "nbformat_minor": 5
}
